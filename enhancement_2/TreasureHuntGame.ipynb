{
 "cells": [
  {
   "cell_type": "markdown",
   "metadata": {},
   "source": [
    "# Treasure Hunt Game Notebook\n",
    "\n",
    "## Read and Review Your Starter Code\n",
    "The theme of this project is a popular treasure hunt game in which the player needs to find the treasure before the pirate does. While you will not be developing the entire game, you will write the part of the game that represents the intelligent agent, which is a pirate in this case. The pirate will try to find the optimal path to the treasure using deep Q-learning. \n",
    "\n",
    "You have been provided with two Python classes and this notebook to help you with this assignment. The first class, TreasureMaze.py, represents the environment, which includes a maze object defined as a matrix. The second class, GameExperience.py, stores the episodes – that is, all the states that come in between the initial state and the terminal state. This is later used by the agent for learning by experience, called \"exploration\". This notebook shows how to play a game. Your task is to complete the deep Q-learning implementation for which a skeleton implementation has been provided. The code blocks you will need to complete has #TODO as a header.\n",
    "\n",
    "First, read and review the next few code and instruction blocks to understand the code that you have been given."
   ]
  },
  {
   "cell_type": "code",
   "execution_count": 1,
   "metadata": {},
   "outputs": [
    {
     "name": "stdout",
     "output_type": "stream",
     "text": [
      "2.6.0\n",
      "[name: \"/device:CPU:0\"\n",
      "device_type: \"CPU\"\n",
      "memory_limit: 268435456\n",
      "locality {\n",
      "}\n",
      "incarnation: 14604204075726460012\n",
      ", name: \"/device:GPU:0\"\n",
      "device_type: \"GPU\"\n",
      "memory_limit: 5706350592\n",
      "locality {\n",
      "  bus_id: 1\n",
      "  links {\n",
      "  }\n",
      "}\n",
      "incarnation: 12556816086583988899\n",
      "physical_device_desc: \"device: 0, name: NVIDIA GeForce RTX 3070 Ti, pci bus id: 0000:01:00.0, compute capability: 8.6\"\n",
      "]\n",
      "[PhysicalDevice(name='/physical_device:GPU:0', device_type='GPU')]\n"
     ]
    }
   ],
   "source": [
    "from __future__ import print_function\n",
    "import os, sys, time, datetime, json, random, contextlib\n",
    "import numpy as np\n",
    "import matplotlib.pyplot as plt\n",
    "\n",
    "from tensorflow.keras.models import Sequential\n",
    "from tensorflow.keras.layers import Dense, Activation, PReLU\n",
    "from tensorflow.keras.optimizers import SGD, Adam, RMSprop\n",
    "\n",
    "from tensorflow.python.client import device_lib\n",
    "import tensorflow as tf\n",
    "print(tf.__version__)\n",
    "print(device_lib.list_local_devices())\n",
    "print(tf.config.list_physical_devices('GPU'))\n",
    "\n",
    "os.environ['TF_CPP_MIN_LOG_LEVEL'] = '3'  # 0=all, 1=info, 2=warning, 3=error\n",
    "tf.get_logger().setLevel('ERROR')\n",
    "\n",
    "from TreasureMaze import TreasureMaze\n",
    "from GameExperience import GameExperience\n",
    "\n",
    "%matplotlib inline\n",
    "\n",
    "gpus = tf.config.list_physical_devices('GPU')\n",
    "if gpus:\n",
    "    for gpu in gpus:\n",
    "        tf.config.experimental.set_memory_growth(gpu, True)"
   ]
  },
  {
   "cell_type": "markdown",
   "metadata": {},
   "source": [
    "The following code block contains an 8x8 matrix that will be used as a maze object:"
   ]
  },
  {
   "cell_type": "code",
   "execution_count": 2,
   "metadata": {},
   "outputs": [],
   "source": [
    "maze = np.array([\n",
    "    [ 1.,  0.,  1.,  1.,  1.,  1.,  1.,  1.],\n",
    "    [ 1.,  0.,  1.,  1.,  1.,  0.,  1.,  1.],\n",
    "    [ 1.,  1.,  1.,  1.,  0.,  1.,  0.,  1.],\n",
    "    [ 1.,  1.,  1.,  0.,  1.,  1.,  1.,  1.],\n",
    "    [ 1.,  1.,  0.,  1.,  1.,  1.,  1.,  1.],\n",
    "    [ 1.,  1.,  1.,  0.,  1.,  0.,  0.,  0.],\n",
    "    [ 1.,  1.,  1.,  0.,  1.,  1.,  1.,  1.],\n",
    "    [ 1.,  1.,  1.,  1.,  0.,  1.,  1.,  1.]\n",
    "])"
   ]
  },
  {
   "cell_type": "markdown",
   "metadata": {},
   "source": [
    "This helper function allows a visual representation of the maze object:"
   ]
  },
  {
   "cell_type": "code",
   "execution_count": 3,
   "metadata": {},
   "outputs": [],
   "source": [
    "def show(qmaze):\n",
    "    plt.grid('on')\n",
    "    nrows, ncols = qmaze.maze.shape\n",
    "    ax = plt.gca()\n",
    "    ax.set_xticks(np.arange(0.5, nrows, 1))\n",
    "    ax.set_yticks(np.arange(0.5, ncols, 1))\n",
    "    ax.set_xticklabels([])\n",
    "    ax.set_yticklabels([])\n",
    "    canvas = np.copy(qmaze.maze)\n",
    "    for row,col in qmaze.visited:\n",
    "        canvas[row,col] = 0.6\n",
    "    pirate_row, pirate_col, _ = qmaze.state\n",
    "    canvas[pirate_row, pirate_col] = 0.3   # pirate cell\n",
    "    canvas[nrows-1, ncols-1] = 0.9 # treasure cell\n",
    "    img = plt.imshow(canvas, interpolation='none', cmap='gray')\n",
    "    return img"
   ]
  },
  {
   "cell_type": "markdown",
   "metadata": {},
   "source": [
    "The pirate agent can move in four directions: left, right, up, and down. \n",
    "\n",
    "While the agent primarily learns by experience through exploitation, often, the agent can choose to explore the environment to find previously undiscovered paths. This is called \"exploration\" and is defined by epsilon. This value is typically a lower value such as 0.1, which means for every ten attempts, the agent will attempt to learn by experience nine times and will randomly explore a new path one time. You are encouraged to try various values for the exploration factor and see how the algorithm performs."
   ]
  },
  {
   "cell_type": "code",
   "execution_count": 4,
   "metadata": {},
   "outputs": [],
   "source": [
    "LEFT = 0\n",
    "UP = 1\n",
    "RIGHT = 2\n",
    "DOWN = 3\n",
    "\n",
    "\n",
    "# Exploration factor\n",
    "epsilon = 1.0\n",
    "\n",
    "# Actions dictionary\n",
    "actions_dict = {\n",
    "    LEFT: 'left',\n",
    "    UP: 'up',\n",
    "    RIGHT: 'right',\n",
    "    DOWN: 'down',\n",
    "}\n",
    "\n",
    "num_actions = len(actions_dict)\n"
   ]
  },
  {
   "cell_type": "markdown",
   "metadata": {},
   "source": [
    "The sample code block and output below show creating a maze object and performing one action (DOWN), which returns the reward. The resulting updated environment is visualized."
   ]
  },
  {
   "cell_type": "code",
   "execution_count": 5,
   "metadata": {},
   "outputs": [
    {
     "name": "stdout",
     "output_type": "stream",
     "text": [
      "reward= -0.04\n"
     ]
    },
    {
     "data": {
      "text/plain": [
       "<matplotlib.image.AxesImage at 0x26e1eb2ca60>"
      ]
     },
     "execution_count": 5,
     "metadata": {},
     "output_type": "execute_result"
    },
    {
     "data": {
      "image/png": "[encoded data removed]",
      "text/plain": [
       "<Figure size 640x480 with 1 Axes>"
      ]
     },
     "metadata": {},
     "output_type": "display_data"
    }
   ],
   "source": [
    "qmaze = TreasureMaze(maze)\n",
    "canvas, reward, game_over = qmaze.act(DOWN)\n",
    "print(\"reward=\", reward)\n",
    "show(qmaze)"
   ]
  },
  {
   "cell_type": "markdown",
   "metadata": {},
   "source": [
    "This function simulates a full game based on the provided trained model. The other parameters include the TreasureMaze object and the starting position of the pirate."
   ]
  },
  {
   "cell_type": "code",
   "execution_count": 6,
   "metadata": {},
   "outputs": [],
   "source": [
    "def play_game(model, qmaze, pirate_cell):\n",
    "    qmaze.reset(pirate_cell)\n",
    "    envstate = qmaze.observe()\n",
    "    while True:\n",
    "        prev_envstate = envstate\n",
    "        # get next action\n",
    "        q = model.predict(prev_envstate)\n",
    "        action = np.argmax(q[0])\n",
    "\n",
    "        # apply action, get rewards and new state\n",
    "        envstate, reward, game_status = qmaze.act(action)\n",
    "        if game_status == 'win':\n",
    "            return True\n",
    "        elif game_status == 'lose':\n",
    "            return False"
   ]
  },
  {
   "cell_type": "markdown",
   "metadata": {},
   "source": [
    "This function helps you to determine whether the pirate can win any game at all. If your maze is not well designed, the pirate may not win any game at all. In this case, your training would not yield any result. The provided maze in this notebook ensures that there is a path to win and you can run this method to check."
   ]
  },
  {
   "cell_type": "code",
   "execution_count": 7,
   "metadata": {},
   "outputs": [],
   "source": [
    "def completion_check(model, qmaze):\n",
    "    for cell in qmaze.free_cells:\n",
    "        if not qmaze.valid_actions(cell):\n",
    "            return False\n",
    "        if not play_game(model, qmaze, cell):\n",
    "            return False\n",
    "    return True"
   ]
  },
  {
   "cell_type": "markdown",
   "metadata": {},
   "source": [
    "The code you have been given in this block will build the neural network model. Review the code and note the number of layers, as well as the activation, optimizer, and loss functions that are used to train the model."
   ]
  },
  {
   "cell_type": "code",
   "execution_count": 8,
   "metadata": {},
   "outputs": [],
   "source": [
    "def build_model(maze):\n",
    "    model = Sequential()\n",
    "    model.add(Dense(maze.size, input_shape=(maze.size,)))\n",
    "    model.add(PReLU())\n",
    "    model.add(Dense(maze.size))\n",
    "    model.add(PReLU())\n",
    "    model.add(Dense(num_actions))\n",
    "    model.compile(optimizer='adam', loss='mse')\n",
    "    return model"
   ]
  },
  {
   "cell_type": "markdown",
   "metadata": {},
   "source": [
    "# #TODO: Complete the Q-Training Algorithm Code Block\n",
    "\n",
    "This is your deep Q-learning implementation. The goal of your deep Q-learning implementation is to find the best possible navigation sequence that results in reaching the treasure cell while maximizing the reward. In your implementation, you need to determine the optimal number of epochs to achieve a 100% win rate.\n",
    "\n",
    "You will need to complete the section starting with #pseudocode. The pseudocode has been included for you."
   ]
  },
  {
   "cell_type": "code",
   "execution_count": 9,
   "metadata": {},
   "outputs": [],
   "source": [
    "def qtrain(model, target_model, maze, **opt):\n",
    "    \n",
    "    # Exploration Factor\n",
    "    global epsilon\n",
    "\n",
    "    # Get parameters from opt\n",
    "    n_epoch = opt.get('n_epoch', 15000)                         # Max epochs to train for\n",
    "    max_memory = opt.get('max_memory', 1000)                    # Max experience memory buffer size\n",
    "    data_size = opt.get('data_size', 256)                       # Max data size for training\n",
    "    update_target_freq = opt.get('update_target_freq', 100)     # Number of epochs between each target_model sync\n",
    "\n",
    "    start_time = datetime.datetime.now()\n",
    "\n",
    "    # Initialize game enviromnent\n",
    "    qmaze = TreasureMaze(maze)\n",
    "\n",
    "    # Initialize experience replay with both models\n",
    "    experience = GameExperience(model, target_model, max_memory=max_memory)\n",
    "\n",
    "    win_history = []                # Array of every game played, 0 represents a loss and 1 represents a win\n",
    "    hsize = qmaze.maze.size // 2    # History size used to determine exit condition\n",
    "    win_rate = 0.0                  # Agent overall win rate\n",
    "\n",
    "    # Initialize epsilon decay rate\n",
    "    epsilon_max = 1.0       # Maximum epsilon value\n",
    "    epsilon_min = 0.05      # Minimum epsilon value\n",
    "    decay_period = 0.6      # Percentage of training run to decay over\n",
    "    # Decay from max to min over 60% of the run\n",
    "    epsilon_decay_rate = (epsilon_max - epsilon_min) / (n_epoch * decay_period)\n",
    "\n",
    "    for epoch in range(n_epoch):\n",
    "\n",
    "        # Initialize loss and n_episodes\n",
    "        loss = 0.0\n",
    "        n_episodes = 0\n",
    "\n",
    "        # Randomly select a free cell\n",
    "        agent_cell = random.choice(qmaze.free_cells)\n",
    "\n",
    "        # Reset the maze with agent set to above position\n",
    "        qmaze.reset(agent_cell)\n",
    "\n",
    "        # Get current environment state\n",
    "        envstate = qmaze.observe()\n",
    "\n",
    "        # While the game is not over\n",
    "        while qmaze.game_status() == \"not_over\":\n",
    "            \n",
    "            # Store previous environment state\n",
    "            previous_envstate = envstate\n",
    "\n",
    "            # Get action either through exploration or exploitation\n",
    "            # If random is less than epsilon (chance to explore)\n",
    "            if random.random() < epsilon:\n",
    "                # Choose random action from current valid actions\n",
    "                action = random.choice(qmaze.valid_actions())\n",
    "            # Else predict next move given current environment state\n",
    "            else:\n",
    "                action = np.argmax(experience.predict(previous_envstate))\n",
    "\n",
    "            # Get envstate, reward, and game status after action\n",
    "            envstate, reward, game_status = qmaze.act(action)\n",
    "\n",
    "            # Store episode in Experience replay object\n",
    "            episode = [previous_envstate, action, reward, envstate, game_status]\n",
    "            experience.remember(episode)\n",
    "\n",
    "            # Increment number of episodes n_episodes\n",
    "            n_episodes += 1\n",
    "\n",
    "            # If game_status is \"win\", add win to history, else add loss\n",
    "            if game_status == 'win':\n",
    "                win_history.append(1)\n",
    "            elif game_status == 'lose':\n",
    "                win_history.append(0)\n",
    "\n",
    "        # After the game ends, train main network model on batch from replay buffer\n",
    "        inputs, targets = experience.get_data(data_size)\n",
    "        loss = model.train_on_batch(inputs, targets)\n",
    "\n",
    "        # Decay epsilon each epoch\n",
    "        epsilon = max(0.05, epsilon - epsilon_decay_rate)\n",
    "\n",
    "        # Sync target network every update_target_freq epochs\n",
    "        if epoch % update_target_freq == 0:\n",
    "            target_model.set_weights(model.get_weights())\n",
    "\n",
    "        # win_rate is equal to sum of all wins divided by number of games played\n",
    "        if len(win_history) > 0:\n",
    "            win_rate = sum(win_history) / len(win_history)\n",
    "\n",
    "        # Print the epoch, loss, episodes, win count, win rate, epsilon, and recent win history every 10 epochs\n",
    "        if epoch % 10 == 0:\n",
    "            dt = datetime.datetime.now() - start_time\n",
    "            t = format_time(dt.total_seconds())\n",
    "            template = \"Epoch: {:03d}/{:d} | Loss: {:.4f} | Episodes: {:d} | Win count: {:d} | Win rate: {:.3f} | time: {} | Epsilon: {:.3f} | Recent History: {}\"\n",
    "            print(template.format(epoch, n_epoch-1, loss, n_episodes, sum(win_history), win_rate, t, epsilon, sum(win_history[-hsize:])))\n",
    "\n",
    "        # If global win rate > 0.9, set epsilon to minimum value\n",
    "        if win_rate > 0.9 and len(win_history) > 100:\n",
    "            epsilon = 0.05\n",
    "\n",
    "        # Completion check\n",
    "        if sum(win_history[-hsize:]) == hsize and completion_check(model, qmaze):\n",
    "            print(\"Reached 100%% win rate at epoch: %d\" % (epoch,))\n",
    "            break\n",
    "\n",
    "    # Determine the total time for training\n",
    "    dt = datetime.datetime.now() - start_time\n",
    "    seconds = dt.total_seconds()\n",
    "    t = format_time(seconds)\n",
    "    print(\"n_epoch: %d, max_mem: %d, data: %d, time: %s\" % (epoch, max_memory, data_size, t))\n",
    "    return seconds\n",
    "\n",
    "# This is a small utility for printing readable time strings:\n",
    "def format_time(seconds):\n",
    "    if seconds < 400:\n",
    "        s = float(seconds)\n",
    "        return \"%.1f seconds\" % (s,)\n",
    "    elif seconds < 4000:\n",
    "        m = seconds / 60.0\n",
    "        return \"%.2f minutes\" % (m,)\n",
    "    else:\n",
    "        h = seconds / 3600.0\n",
    "        return \"%.2f hours\" % (h,)"
   ]
  },
  {
   "cell_type": "markdown",
   "metadata": {},
   "source": [
    "## Test Your Model\n",
    "\n",
    "Now we will start testing the deep Q-learning implementation. To begin, select **Cell**, then **Run All** from the menu bar. This will run your notebook. As it runs, you should see output begin to appear beneath the next few cells. The code below creates an instance of TreasureMaze."
   ]
  },
  {
   "cell_type": "code",
   "execution_count": 10,
   "metadata": {},
   "outputs": [
    {
     "data": {
      "text/plain": [
       "<matplotlib.image.AxesImage at 0x26e264b1dc0>"
      ]
     },
     "execution_count": 10,
     "metadata": {},
     "output_type": "execute_result"
    },
    {
     "data": {
      "image/png": "[encoded data removed]",
      "text/plain": [
       "<Figure size 640x480 with 1 Axes>"
      ]
     },
     "metadata": {},
     "output_type": "display_data"
    }
   ],
   "source": [
    "qmaze = TreasureMaze(maze)\n",
    "show(qmaze)"
   ]
  },
  {
   "cell_type": "markdown",
   "metadata": {},
   "source": [
    "In the next code block, you will build your model and train it using deep Q-learning. Note: This step takes several minutes to fully run."
   ]
  },
  {
   "cell_type": "code",
   "execution_count": 11,
   "metadata": {},
   "outputs": [
    {
     "name": "stdout",
     "output_type": "stream",
     "text": [
      "Epoch: 000/2999 | Loss: 0.0518 | Episodes: 107 | Win count: 1 | Win rate: 1.000 | time: 1.8 seconds | Epsilon: 0.999 | Recent History: 1\n",
      "Epoch: 010/2999 | Loss: 0.0074 | Episodes: 50 | Win count: 4 | Win rate: 0.364 | time: 3.7 seconds | Epsilon: 0.994 | Recent History: 4\n",
      "Epoch: 020/2999 | Loss: 0.0044 | Episodes: 96 | Win count: 7 | Win rate: 0.333 | time: 5.4 seconds | Epsilon: 0.989 | Recent History: 7\n",
      "Epoch: 030/2999 | Loss: 0.0019 | Episodes: 144 | Win count: 8 | Win rate: 0.258 | time: 7.3 seconds | Epsilon: 0.984 | Recent History: 8\n",
      "Epoch: 040/2999 | Loss: 0.0033 | Episodes: 142 | Win count: 9 | Win rate: 0.220 | time: 9.5 seconds | Epsilon: 0.978 | Recent History: 7\n",
      "Epoch: 050/2999 | Loss: 0.0018 | Episodes: 142 | Win count: 11 | Win rate: 0.216 | time: 12.0 seconds | Epsilon: 0.973 | Recent History: 5\n",
      "Epoch: 060/2999 | Loss: 0.0025 | Episodes: 151 | Win count: 14 | Win rate: 0.230 | time: 14.9 seconds | Epsilon: 0.968 | Recent History: 6\n",
      "Epoch: 070/2999 | Loss: 0.0017 | Episodes: 144 | Win count: 15 | Win rate: 0.211 | time: 18.4 seconds | Epsilon: 0.963 | Recent History: 6\n",
      "Epoch: 080/2999 | Loss: 0.0024 | Episodes: 78 | Win count: 19 | Win rate: 0.235 | time: 21.4 seconds | Epsilon: 0.957 | Recent History: 9\n",
      "Epoch: 090/2999 | Loss: 0.0033 | Episodes: 55 | Win count: 22 | Win rate: 0.242 | time: 24.5 seconds | Epsilon: 0.952 | Recent History: 8\n",
      "Epoch: 100/2999 | Loss: 0.0030 | Episodes: 149 | Win count: 24 | Win rate: 0.238 | time: 28.1 seconds | Epsilon: 0.947 | Recent History: 9\n",
      "Epoch: 110/2999 | Loss: 0.0024 | Episodes: 157 | Win count: 28 | Win rate: 0.252 | time: 31.8 seconds | Epsilon: 0.941 | Recent History: 10\n",
      "Epoch: 120/2999 | Loss: 0.0017 | Episodes: 147 | Win count: 30 | Win rate: 0.248 | time: 36.1 seconds | Epsilon: 0.936 | Recent History: 9\n",
      "Epoch: 130/2999 | Loss: 0.0025 | Episodes: 139 | Win count: 32 | Win rate: 0.244 | time: 40.5 seconds | Epsilon: 0.931 | Recent History: 8\n",
      "Epoch: 140/2999 | Loss: 0.0018 | Episodes: 143 | Win count: 36 | Win rate: 0.255 | time: 44.8 seconds | Epsilon: 0.926 | Recent History: 8\n",
      "Epoch: 150/2999 | Loss: 0.0016 | Episodes: 163 | Win count: 39 | Win rate: 0.258 | time: 49.5 seconds | Epsilon: 0.920 | Recent History: 9\n",
      "Epoch: 160/2999 | Loss: 0.0023 | Episodes: 144 | Win count: 41 | Win rate: 0.255 | time: 54.5 seconds | Epsilon: 0.915 | Recent History: 9\n",
      "Epoch: 170/2999 | Loss: 0.0016 | Episodes: 146 | Win count: 43 | Win rate: 0.251 | time: 60.2 seconds | Epsilon: 0.910 | Recent History: 7\n",
      "Epoch: 180/2999 | Loss: 0.0016 | Episodes: 153 | Win count: 45 | Win rate: 0.249 | time: 66.3 seconds | Epsilon: 0.904 | Recent History: 6\n",
      "Epoch: 190/2999 | Loss: 0.0024 | Episodes: 152 | Win count: 47 | Win rate: 0.246 | time: 71.7 seconds | Epsilon: 0.899 | Recent History: 7\n",
      "Epoch: 200/2999 | Loss: 0.0025 | Episodes: 138 | Win count: 49 | Win rate: 0.244 | time: 77.9 seconds | Epsilon: 0.894 | Recent History: 6\n",
      "Epoch: 210/2999 | Loss: 0.0029 | Episodes: 58 | Win count: 50 | Win rate: 0.237 | time: 85.7 seconds | Epsilon: 0.889 | Recent History: 5\n",
      "Epoch: 220/2999 | Loss: 0.0022 | Episodes: 95 | Win count: 54 | Win rate: 0.244 | time: 90.9 seconds | Epsilon: 0.883 | Recent History: 8\n",
      "Epoch: 230/2999 | Loss: 0.0041 | Episodes: 143 | Win count: 56 | Win rate: 0.242 | time: 98.2 seconds | Epsilon: 0.878 | Recent History: 7\n",
      "Epoch: 240/2999 | Loss: 0.0029 | Episodes: 144 | Win count: 59 | Win rate: 0.245 | time: 104.5 seconds | Epsilon: 0.873 | Recent History: 10\n",
      "Epoch: 250/2999 | Loss: 0.0022 | Episodes: 6 | Win count: 62 | Win rate: 0.247 | time: 110.6 seconds | Epsilon: 0.868 | Recent History: 9\n",
      "Epoch: 260/2999 | Loss: 0.0023 | Episodes: 48 | Win count: 65 | Win rate: 0.249 | time: 116.2 seconds | Epsilon: 0.862 | Recent History: 9\n",
      "Epoch: 270/2999 | Loss: 0.0023 | Episodes: 151 | Win count: 71 | Win rate: 0.262 | time: 122.2 seconds | Epsilon: 0.857 | Recent History: 12\n",
      "Epoch: 280/2999 | Loss: 0.0037 | Episodes: 149 | Win count: 74 | Win rate: 0.263 | time: 129.7 seconds | Epsilon: 0.852 | Recent History: 13\n",
      "Epoch: 290/2999 | Loss: 0.0018 | Episodes: 139 | Win count: 75 | Win rate: 0.258 | time: 138.5 seconds | Epsilon: 0.846 | Recent History: 12\n",
      "Epoch: 300/2999 | Loss: 0.0017 | Episodes: 139 | Win count: 77 | Win rate: 0.256 | time: 146.9 seconds | Epsilon: 0.841 | Recent History: 7\n",
      "Epoch: 310/2999 | Loss: 0.0022 | Episodes: 58 | Win count: 84 | Win rate: 0.270 | time: 152.7 seconds | Epsilon: 0.836 | Recent History: 10\n",
      "Epoch: 320/2999 | Loss: 0.0019 | Episodes: 151 | Win count: 88 | Win rate: 0.274 | time: 161.6 seconds | Epsilon: 0.831 | Recent History: 13\n",
      "Epoch: 330/2999 | Loss: 0.0033 | Episodes: 1 | Win count: 91 | Win rate: 0.275 | time: 169.4 seconds | Epsilon: 0.825 | Recent History: 14\n",
      "Epoch: 340/2999 | Loss: 0.0022 | Episodes: 144 | Win count: 96 | Win rate: 0.282 | time: 177.3 seconds | Epsilon: 0.820 | Recent History: 14\n",
      "Epoch: 350/2999 | Loss: 0.0028 | Episodes: 151 | Win count: 98 | Win rate: 0.279 | time: 187.6 seconds | Epsilon: 0.815 | Recent History: 11\n",
      "Epoch: 360/2999 | Loss: 0.0027 | Episodes: 6 | Win count: 101 | Win rate: 0.280 | time: 197.3 seconds | Epsilon: 0.809 | Recent History: 11\n",
      "Epoch: 370/2999 | Loss: 0.0027 | Episodes: 147 | Win count: 104 | Win rate: 0.280 | time: 206.0 seconds | Epsilon: 0.804 | Recent History: 9\n",
      "Epoch: 380/2999 | Loss: 0.0016 | Episodes: 7 | Win count: 107 | Win rate: 0.281 | time: 215.1 seconds | Epsilon: 0.799 | Recent History: 9\n",
      "Epoch: 390/2999 | Loss: 0.0028 | Episodes: 3 | Win count: 110 | Win rate: 0.281 | time: 224.0 seconds | Epsilon: 0.794 | Recent History: 10\n",
      "Epoch: 400/2999 | Loss: 0.0023 | Episodes: 150 | Win count: 112 | Win rate: 0.279 | time: 235.3 seconds | Epsilon: 0.788 | Recent History: 9\n",
      "Epoch: 410/2999 | Loss: 0.0017 | Episodes: 144 | Win count: 115 | Win rate: 0.280 | time: 244.8 seconds | Epsilon: 0.783 | Recent History: 9\n",
      "Epoch: 420/2999 | Loss: 0.0022 | Episodes: 107 | Win count: 122 | Win rate: 0.290 | time: 253.7 seconds | Epsilon: 0.778 | Recent History: 13\n",
      "Epoch: 430/2999 | Loss: 0.0021 | Episodes: 150 | Win count: 124 | Win rate: 0.288 | time: 266.0 seconds | Epsilon: 0.773 | Recent History: 13\n",
      "Epoch: 440/2999 | Loss: 0.0021 | Episodes: 90 | Win count: 127 | Win rate: 0.288 | time: 277.4 seconds | Epsilon: 0.767 | Recent History: 12\n",
      "Epoch: 450/2999 | Loss: 0.0027 | Episodes: 147 | Win count: 129 | Win rate: 0.286 | time: 288.2 seconds | Epsilon: 0.762 | Recent History: 9\n",
      "Epoch: 460/2999 | Loss: 0.0018 | Episodes: 148 | Win count: 132 | Win rate: 0.286 | time: 300.0 seconds | Epsilon: 0.757 | Recent History: 8\n",
      "Epoch: 470/2999 | Loss: 0.0021 | Episodes: 112 | Win count: 134 | Win rate: 0.285 | time: 311.8 seconds | Epsilon: 0.751 | Recent History: 8\n",
      "Epoch: 480/2999 | Loss: 0.0031 | Episodes: 134 | Win count: 136 | Win rate: 0.283 | time: 325.4 seconds | Epsilon: 0.746 | Recent History: 7\n",
      "Epoch: 490/2999 | Loss: 0.0027 | Episodes: 33 | Win count: 138 | Win rate: 0.281 | time: 340.5 seconds | Epsilon: 0.741 | Recent History: 6\n",
      "Epoch: 500/2999 | Loss: 0.0018 | Episodes: 152 | Win count: 143 | Win rate: 0.285 | time: 351.4 seconds | Epsilon: 0.736 | Recent History: 10\n",
      "Epoch: 510/2999 | Loss: 0.0017 | Episodes: 3 | Win count: 148 | Win rate: 0.290 | time: 360.6 seconds | Epsilon: 0.730 | Recent History: 13\n",
      "Epoch: 520/2999 | Loss: 0.0026 | Episodes: 12 | Win count: 152 | Win rate: 0.292 | time: 371.1 seconds | Epsilon: 0.725 | Recent History: 15\n",
      "Epoch: 530/2999 | Loss: 0.0025 | Episodes: 142 | Win count: 155 | Win rate: 0.292 | time: 383.9 seconds | Epsilon: 0.720 | Recent History: 13\n",
      "Epoch: 540/2999 | Loss: 0.0014 | Episodes: 72 | Win count: 157 | Win rate: 0.290 | time: 396.9 seconds | Epsilon: 0.714 | Recent History: 10\n",
      "Epoch: 550/2999 | Loss: 0.0015 | Episodes: 148 | Win count: 162 | Win rate: 0.294 | time: 6.82 minutes | Epsilon: 0.709 | Recent History: 11\n",
      "Epoch: 560/2999 | Loss: 0.0017 | Episodes: 154 | Win count: 165 | Win rate: 0.294 | time: 7.01 minutes | Epsilon: 0.704 | Recent History: 11\n",
      "Epoch: 570/2999 | Loss: 0.0021 | Episodes: 54 | Win count: 167 | Win rate: 0.292 | time: 7.24 minutes | Epsilon: 0.699 | Recent History: 11\n",
      "Epoch: 580/2999 | Loss: 0.0020 | Episodes: 144 | Win count: 170 | Win rate: 0.293 | time: 7.47 minutes | Epsilon: 0.693 | Recent History: 8\n",
      "Epoch: 590/2999 | Loss: 0.0017 | Episodes: 69 | Win count: 176 | Win rate: 0.298 | time: 7.65 minutes | Epsilon: 0.688 | Recent History: 12\n",
      "Epoch: 600/2999 | Loss: 0.0018 | Episodes: 138 | Win count: 177 | Win rate: 0.295 | time: 7.92 minutes | Epsilon: 0.683 | Recent History: 11\n",
      "Epoch: 610/2999 | Loss: 0.0021 | Episodes: 87 | Win count: 181 | Win rate: 0.296 | time: 8.14 minutes | Epsilon: 0.678 | Recent History: 12\n",
      "Epoch: 620/2999 | Loss: 0.0014 | Episodes: 139 | Win count: 184 | Win rate: 0.296 | time: 8.36 minutes | Epsilon: 0.672 | Recent History: 10\n",
      "Epoch: 630/2999 | Loss: 0.0022 | Episodes: 12 | Win count: 189 | Win rate: 0.300 | time: 8.53 minutes | Epsilon: 0.667 | Recent History: 13\n",
      "Epoch: 640/2999 | Loss: 0.0022 | Episodes: 139 | Win count: 192 | Win rate: 0.300 | time: 8.80 minutes | Epsilon: 0.662 | Recent History: 13\n",
      "Epoch: 650/2999 | Loss: 0.0029 | Episodes: 138 | Win count: 195 | Win rate: 0.300 | time: 9.07 minutes | Epsilon: 0.656 | Recent History: 11\n",
      "Epoch: 660/2999 | Loss: 0.0030 | Episodes: 150 | Win count: 197 | Win rate: 0.298 | time: 9.33 minutes | Epsilon: 0.651 | Recent History: 9\n",
      "Epoch: 670/2999 | Loss: 0.0024 | Episodes: 55 | Win count: 202 | Win rate: 0.301 | time: 9.53 minutes | Epsilon: 0.646 | Recent History: 10\n",
      "Epoch: 680/2999 | Loss: 0.0024 | Episodes: 89 | Win count: 210 | Win rate: 0.308 | time: 9.73 minutes | Epsilon: 0.641 | Recent History: 15\n",
      "Epoch: 690/2999 | Loss: 0.0020 | Episodes: 11 | Win count: 214 | Win rate: 0.310 | time: 9.98 minutes | Epsilon: 0.635 | Recent History: 17\n",
      "Epoch: 700/2999 | Loss: 0.0017 | Episodes: 111 | Win count: 221 | Win rate: 0.315 | time: 10.14 minutes | Epsilon: 0.630 | Recent History: 20\n",
      "Epoch: 710/2999 | Loss: 0.0034 | Episodes: 113 | Win count: 228 | Win rate: 0.321 | time: 10.34 minutes | Epsilon: 0.625 | Recent History: 20\n",
      "Epoch: 720/2999 | Loss: 0.0017 | Episodes: 146 | Win count: 235 | Win rate: 0.326 | time: 10.53 minutes | Epsilon: 0.619 | Recent History: 22\n",
      "Epoch: 730/2999 | Loss: 0.0036 | Episodes: 147 | Win count: 241 | Win rate: 0.330 | time: 10.76 minutes | Epsilon: 0.614 | Recent History: 22\n",
      "Epoch: 740/2999 | Loss: 0.0020 | Episodes: 142 | Win count: 246 | Win rate: 0.332 | time: 10.98 minutes | Epsilon: 0.609 | Recent History: 20\n",
      "Epoch: 750/2999 | Loss: 0.0023 | Episodes: 144 | Win count: 250 | Win rate: 0.333 | time: 11.20 minutes | Epsilon: 0.604 | Recent History: 15\n",
      "Epoch: 760/2999 | Loss: 0.0032 | Episodes: 143 | Win count: 251 | Win rate: 0.330 | time: 11.51 minutes | Epsilon: 0.598 | Recent History: 11\n",
      "Epoch: 770/2999 | Loss: 0.0025 | Episodes: 6 | Win count: 252 | Win rate: 0.327 | time: 11.83 minutes | Epsilon: 0.593 | Recent History: 6\n",
      "Epoch: 780/2999 | Loss: 0.0021 | Episodes: 142 | Win count: 259 | Win rate: 0.332 | time: 12.02 minutes | Epsilon: 0.588 | Recent History: 9\n",
      "Epoch: 790/2999 | Loss: 0.0020 | Episodes: 144 | Win count: 262 | Win rate: 0.331 | time: 12.30 minutes | Epsilon: 0.583 | Recent History: 11\n",
      "Epoch: 800/2999 | Loss: 0.0025 | Episodes: 141 | Win count: 262 | Win rate: 0.327 | time: 12.66 minutes | Epsilon: 0.577 | Recent History: 11\n",
      "Epoch: 810/2999 | Loss: 0.0021 | Episodes: 139 | Win count: 266 | Win rate: 0.328 | time: 12.93 minutes | Epsilon: 0.572 | Recent History: 7\n",
      "Epoch: 820/2999 | Loss: 0.0022 | Episodes: 140 | Win count: 270 | Win rate: 0.329 | time: 13.20 minutes | Epsilon: 0.567 | Recent History: 8\n",
      "Epoch: 830/2999 | Loss: 0.0014 | Episodes: 38 | Win count: 274 | Win rate: 0.330 | time: 13.47 minutes | Epsilon: 0.561 | Recent History: 12\n",
      "Epoch: 840/2999 | Loss: 0.0014 | Episodes: 10 | Win count: 278 | Win rate: 0.331 | time: 13.76 minutes | Epsilon: 0.556 | Recent History: 12\n",
      "Epoch: 850/2999 | Loss: 0.0021 | Episodes: 140 | Win count: 281 | Win rate: 0.330 | time: 14.06 minutes | Epsilon: 0.551 | Recent History: 12\n",
      "Epoch: 860/2999 | Loss: 0.0015 | Episodes: 72 | Win count: 285 | Win rate: 0.331 | time: 14.35 minutes | Epsilon: 0.546 | Recent History: 12\n",
      "Epoch: 870/2999 | Loss: 0.0016 | Episodes: 143 | Win count: 289 | Win rate: 0.332 | time: 14.65 minutes | Epsilon: 0.540 | Recent History: 12\n",
      "Epoch: 880/2999 | Loss: 0.0017 | Episodes: 147 | Win count: 292 | Win rate: 0.331 | time: 14.94 minutes | Epsilon: 0.535 | Recent History: 11\n",
      "Epoch: 890/2999 | Loss: 0.0015 | Episodes: 139 | Win count: 293 | Win rate: 0.329 | time: 15.32 minutes | Epsilon: 0.530 | Recent History: 9\n",
      "Epoch: 900/2999 | Loss: 0.0015 | Episodes: 146 | Win count: 297 | Win rate: 0.330 | time: 15.60 minutes | Epsilon: 0.524 | Recent History: 8\n",
      "Epoch: 910/2999 | Loss: 0.0017 | Episodes: 141 | Win count: 302 | Win rate: 0.332 | time: 15.85 minutes | Epsilon: 0.519 | Recent History: 11\n",
      "Epoch: 920/2999 | Loss: 0.0021 | Episodes: 146 | Win count: 306 | Win rate: 0.332 | time: 16.17 minutes | Epsilon: 0.514 | Recent History: 13\n",
      "Epoch: 930/2999 | Loss: 0.0021 | Episodes: 10 | Win count: 313 | Win rate: 0.336 | time: 16.36 minutes | Epsilon: 0.509 | Recent History: 16\n",
      "Epoch: 940/2999 | Loss: 0.0015 | Episodes: 139 | Win count: 318 | Win rate: 0.338 | time: 16.64 minutes | Epsilon: 0.503 | Recent History: 17\n",
      "Epoch: 950/2999 | Loss: 0.0019 | Episodes: 136 | Win count: 321 | Win rate: 0.338 | time: 16.96 minutes | Epsilon: 0.498 | Recent History: 16\n",
      "Epoch: 960/2999 | Loss: 0.0023 | Episodes: 80 | Win count: 327 | Win rate: 0.340 | time: 17.23 minutes | Epsilon: 0.493 | Recent History: 16\n",
      "Epoch: 970/2999 | Loss: 0.0022 | Episodes: 133 | Win count: 333 | Win rate: 0.343 | time: 17.45 minutes | Epsilon: 0.488 | Recent History: 16\n",
      "Epoch: 980/2999 | Loss: 0.0026 | Episodes: 1 | Win count: 341 | Win rate: 0.348 | time: 17.65 minutes | Epsilon: 0.482 | Recent History: 20\n",
      "Epoch: 990/2999 | Loss: 0.0019 | Episodes: 52 | Win count: 347 | Win rate: 0.350 | time: 17.90 minutes | Epsilon: 0.477 | Recent History: 22\n",
      "Epoch: 1000/2999 | Loss: 0.0016 | Episodes: 1 | Win count: 353 | Win rate: 0.353 | time: 18.16 minutes | Epsilon: 0.472 | Recent History: 21\n",
      "Epoch: 1010/2999 | Loss: 0.0024 | Episodes: 139 | Win count: 357 | Win rate: 0.353 | time: 18.50 minutes | Epsilon: 0.466 | Recent History: 18\n",
      "Epoch: 1020/2999 | Loss: 0.0021 | Episodes: 134 | Win count: 359 | Win rate: 0.352 | time: 18.86 minutes | Epsilon: 0.461 | Recent History: 13\n",
      "Epoch: 1030/2999 | Loss: 0.0019 | Episodes: 15 | Win count: 365 | Win rate: 0.354 | time: 19.11 minutes | Epsilon: 0.456 | Recent History: 13\n",
      "Epoch: 1040/2999 | Loss: 0.0021 | Episodes: 138 | Win count: 370 | Win rate: 0.355 | time: 19.39 minutes | Epsilon: 0.451 | Recent History: 13\n",
      "Epoch: 1050/2999 | Loss: 0.0026 | Episodes: 125 | Win count: 376 | Win rate: 0.358 | time: 19.70 minutes | Epsilon: 0.445 | Recent History: 17\n",
      "Epoch: 1060/2999 | Loss: 0.0014 | Episodes: 29 | Win count: 381 | Win rate: 0.359 | time: 19.98 minutes | Epsilon: 0.440 | Recent History: 18\n",
      "Epoch: 1070/2999 | Loss: 0.0019 | Episodes: 8 | Win count: 388 | Win rate: 0.362 | time: 20.23 minutes | Epsilon: 0.435 | Recent History: 19\n",
      "Epoch: 1080/2999 | Loss: 0.0029 | Episodes: 60 | Win count: 394 | Win rate: 0.364 | time: 20.51 minutes | Epsilon: 0.429 | Recent History: 19\n",
      "Epoch: 1090/2999 | Loss: 0.0024 | Episodes: 37 | Win count: 398 | Win rate: 0.365 | time: 20.87 minutes | Epsilon: 0.424 | Recent History: 19\n",
      "Epoch: 1100/2999 | Loss: 0.0017 | Episodes: 138 | Win count: 406 | Win rate: 0.369 | time: 21.09 minutes | Epsilon: 0.419 | Recent History: 20\n",
      "Epoch: 1110/2999 | Loss: 0.0022 | Episodes: 134 | Win count: 410 | Win rate: 0.369 | time: 21.41 minutes | Epsilon: 0.414 | Recent History: 18\n",
      "Epoch: 1120/2999 | Loss: 0.0014 | Episodes: 15 | Win count: 418 | Win rate: 0.373 | time: 21.63 minutes | Epsilon: 0.408 | Recent History: 21\n",
      "Epoch: 1130/2999 | Loss: 0.0024 | Episodes: 29 | Win count: 425 | Win rate: 0.376 | time: 21.89 minutes | Epsilon: 0.403 | Recent History: 20\n",
      "Epoch: 1140/2999 | Loss: 0.0016 | Episodes: 138 | Win count: 430 | Win rate: 0.377 | time: 22.22 minutes | Epsilon: 0.398 | Recent History: 20\n",
      "Epoch: 1150/2999 | Loss: 0.0018 | Episodes: 9 | Win count: 435 | Win rate: 0.378 | time: 22.57 minutes | Epsilon: 0.393 | Recent History: 19\n",
      "Epoch: 1160/2999 | Loss: 0.0019 | Episodes: 141 | Win count: 438 | Win rate: 0.377 | time: 22.94 minutes | Epsilon: 0.387 | Recent History: 14\n",
      "Epoch: 1170/2999 | Loss: 0.0018 | Episodes: 59 | Win count: 443 | Win rate: 0.378 | time: 23.26 minutes | Epsilon: 0.382 | Recent History: 14\n",
      "Epoch: 1180/2999 | Loss: 0.0024 | Episodes: 15 | Win count: 448 | Win rate: 0.379 | time: 23.59 minutes | Epsilon: 0.377 | Recent History: 14\n",
      "Epoch: 1190/2999 | Loss: 0.0014 | Episodes: 142 | Win count: 454 | Win rate: 0.381 | time: 23.88 minutes | Epsilon: 0.371 | Recent History: 16\n",
      "Epoch: 1200/2999 | Loss: 0.0011 | Episodes: 53 | Win count: 459 | Win rate: 0.382 | time: 24.18 minutes | Epsilon: 0.366 | Recent History: 17\n",
      "Epoch: 1210/2999 | Loss: 0.0022 | Episodes: 61 | Win count: 464 | Win rate: 0.383 | time: 24.49 minutes | Epsilon: 0.361 | Recent History: 18\n",
      "Epoch: 1220/2999 | Loss: 0.0017 | Episodes: 136 | Win count: 469 | Win rate: 0.384 | time: 24.78 minutes | Epsilon: 0.356 | Recent History: 16\n",
      "Epoch: 1230/2999 | Loss: 0.0013 | Episodes: 150 | Win count: 472 | Win rate: 0.383 | time: 25.17 minutes | Epsilon: 0.350 | Recent History: 14\n",
      "Epoch: 1240/2999 | Loss: 0.0020 | Episodes: 136 | Win count: 476 | Win rate: 0.384 | time: 25.55 minutes | Epsilon: 0.345 | Recent History: 13\n",
      "Epoch: 1250/2999 | Loss: 0.0018 | Episodes: 1 | Win count: 483 | Win rate: 0.386 | time: 25.80 minutes | Epsilon: 0.340 | Recent History: 14\n",
      "Epoch: 1260/2999 | Loss: 0.0016 | Episodes: 115 | Win count: 488 | Win rate: 0.387 | time: 26.13 minutes | Epsilon: 0.334 | Recent History: 17\n",
      "Epoch: 1270/2999 | Loss: 0.0014 | Episodes: 3 | Win count: 495 | Win rate: 0.389 | time: 26.34 minutes | Epsilon: 0.329 | Recent History: 20\n",
      "Epoch: 1280/2999 | Loss: 0.0012 | Episodes: 133 | Win count: 501 | Win rate: 0.391 | time: 26.71 minutes | Epsilon: 0.324 | Recent History: 19\n",
      "Epoch: 1290/2999 | Loss: 0.0014 | Episodes: 31 | Win count: 508 | Win rate: 0.393 | time: 26.96 minutes | Epsilon: 0.319 | Recent History: 21\n",
      "Epoch: 1300/2999 | Loss: 0.0013 | Episodes: 2 | Win count: 512 | Win rate: 0.394 | time: 27.33 minutes | Epsilon: 0.313 | Recent History: 19\n",
      "Epoch: 1310/2999 | Loss: 0.0015 | Episodes: 7 | Win count: 518 | Win rate: 0.395 | time: 27.62 minutes | Epsilon: 0.308 | Recent History: 18\n",
      "Epoch: 1320/2999 | Loss: 0.0012 | Episodes: 87 | Win count: 525 | Win rate: 0.397 | time: 27.89 minutes | Epsilon: 0.303 | Recent History: 18\n",
      "Epoch: 1330/2999 | Loss: 0.0016 | Episodes: 134 | Win count: 532 | Win rate: 0.400 | time: 28.16 minutes | Epsilon: 0.298 | Recent History: 22\n",
      "Epoch: 1340/2999 | Loss: 0.0014 | Episodes: 3 | Win count: 539 | Win rate: 0.402 | time: 28.46 minutes | Epsilon: 0.292 | Recent History: 22\n",
      "Epoch: 1350/2999 | Loss: 0.0012 | Episodes: 23 | Win count: 548 | Win rate: 0.406 | time: 28.70 minutes | Epsilon: 0.287 | Recent History: 25\n",
      "Epoch: 1360/2999 | Loss: 0.0014 | Episodes: 14 | Win count: 558 | Win rate: 0.410 | time: 28.84 minutes | Epsilon: 0.282 | Recent History: 27\n",
      "Epoch: 1370/2999 | Loss: 0.0013 | Episodes: 135 | Win count: 566 | Win rate: 0.413 | time: 29.08 minutes | Epsilon: 0.276 | Recent History: 29\n",
      "Epoch: 1380/2999 | Loss: 0.0017 | Episodes: 34 | Win count: 573 | Win rate: 0.415 | time: 29.32 minutes | Epsilon: 0.271 | Recent History: 27\n",
      "Epoch: 1390/2999 | Loss: 0.0015 | Episodes: 29 | Win count: 580 | Win rate: 0.417 | time: 29.61 minutes | Epsilon: 0.266 | Recent History: 24\n",
      "Epoch: 1400/2999 | Loss: 0.0013 | Episodes: 135 | Win count: 587 | Win rate: 0.419 | time: 29.87 minutes | Epsilon: 0.261 | Recent History: 22\n",
      "Epoch: 1410/2999 | Loss: 0.0015 | Episodes: 135 | Win count: 591 | Win rate: 0.419 | time: 30.26 minutes | Epsilon: 0.255 | Recent History: 19\n",
      "Epoch: 1420/2999 | Loss: 0.0012 | Episodes: 13 | Win count: 599 | Win rate: 0.422 | time: 30.48 minutes | Epsilon: 0.250 | Recent History: 21\n",
      "Epoch: 1430/2999 | Loss: 0.0013 | Episodes: 2 | Win count: 606 | Win rate: 0.423 | time: 30.76 minutes | Epsilon: 0.245 | Recent History: 20\n",
      "Epoch: 1440/2999 | Loss: 0.0013 | Episodes: 15 | Win count: 615 | Win rate: 0.427 | time: 30.98 minutes | Epsilon: 0.239 | Recent History: 25\n",
      "Epoch: 1450/2999 | Loss: 0.0015 | Episodes: 55 | Win count: 621 | Win rate: 0.428 | time: 31.32 minutes | Epsilon: 0.234 | Recent History: 24\n",
      "Epoch: 1460/2999 | Loss: 0.0012 | Episodes: 138 | Win count: 626 | Win rate: 0.428 | time: 31.67 minutes | Epsilon: 0.229 | Recent History: 22\n",
      "Epoch: 1470/2999 | Loss: 0.0012 | Episodes: 134 | Win count: 632 | Win rate: 0.430 | time: 32.02 minutes | Epsilon: 0.224 | Recent History: 19\n",
      "Epoch: 1480/2999 | Loss: 0.0013 | Episodes: 43 | Win count: 642 | Win rate: 0.433 | time: 32.15 minutes | Epsilon: 0.218 | Recent History: 22\n",
      "Epoch: 1490/2999 | Loss: 0.0013 | Episodes: 7 | Win count: 651 | Win rate: 0.437 | time: 32.33 minutes | Epsilon: 0.213 | Recent History: 26\n",
      "Epoch: 1500/2999 | Loss: 0.0013 | Episodes: 33 | Win count: 657 | Win rate: 0.438 | time: 32.64 minutes | Epsilon: 0.208 | Recent History: 25\n",
      "Epoch: 1510/2999 | Loss: 0.0012 | Episodes: 21 | Win count: 667 | Win rate: 0.441 | time: 32.76 minutes | Epsilon: 0.203 | Recent History: 27\n",
      "Epoch: 1520/2999 | Loss: 0.0012 | Episodes: 134 | Win count: 675 | Win rate: 0.444 | time: 32.99 minutes | Epsilon: 0.197 | Recent History: 25\n",
      "Epoch: 1530/2999 | Loss: 0.0013 | Episodes: 135 | Win count: 682 | Win rate: 0.445 | time: 33.33 minutes | Epsilon: 0.192 | Recent History: 26\n",
      "Epoch: 1540/2999 | Loss: 0.0013 | Episodes: 1 | Win count: 689 | Win rate: 0.447 | time: 33.61 minutes | Epsilon: 0.187 | Recent History: 24\n",
      "Epoch: 1550/2999 | Loss: 0.0014 | Episodes: 134 | Win count: 697 | Win rate: 0.449 | time: 33.85 minutes | Epsilon: 0.181 | Recent History: 23\n",
      "Epoch: 1560/2999 | Loss: 0.0013 | Episodes: 134 | Win count: 702 | Win rate: 0.450 | time: 34.22 minutes | Epsilon: 0.176 | Recent History: 21\n",
      "Epoch: 1570/2999 | Loss: 0.0012 | Episodes: 18 | Win count: 711 | Win rate: 0.453 | time: 34.39 minutes | Epsilon: 0.171 | Recent History: 23\n",
      "Epoch: 1580/2999 | Loss: 0.0012 | Episodes: 141 | Win count: 718 | Win rate: 0.454 | time: 34.63 minutes | Epsilon: 0.166 | Recent History: 22\n",
      "Epoch: 1590/2999 | Loss: 0.0013 | Episodes: 139 | Win count: 726 | Win rate: 0.456 | time: 34.86 minutes | Epsilon: 0.160 | Recent History: 25\n",
      "Epoch: 1600/2999 | Loss: 0.0011 | Episodes: 137 | Win count: 733 | Win rate: 0.458 | time: 35.14 minutes | Epsilon: 0.155 | Recent History: 24\n",
      "Epoch: 1610/2999 | Loss: 0.0012 | Episodes: 7 | Win count: 742 | Win rate: 0.461 | time: 35.27 minutes | Epsilon: 0.150 | Recent History: 25\n",
      "Epoch: 1620/2999 | Loss: 0.0011 | Episodes: 3 | Win count: 750 | Win rate: 0.463 | time: 35.47 minutes | Epsilon: 0.144 | Recent History: 25\n",
      "Epoch: 1630/2999 | Loss: 0.0012 | Episodes: 132 | Win count: 756 | Win rate: 0.464 | time: 35.77 minutes | Epsilon: 0.139 | Recent History: 24\n",
      "Epoch: 1640/2999 | Loss: 0.0009 | Episodes: 129 | Win count: 764 | Win rate: 0.466 | time: 36.00 minutes | Epsilon: 0.134 | Recent History: 24\n",
      "Epoch: 1650/2999 | Loss: 0.0010 | Episodes: 7 | Win count: 772 | Win rate: 0.468 | time: 36.27 minutes | Epsilon: 0.129 | Recent History: 23\n",
      "Epoch: 1660/2999 | Loss: 0.0010 | Episodes: 18 | Win count: 780 | Win rate: 0.470 | time: 36.50 minutes | Epsilon: 0.123 | Recent History: 25\n",
      "Epoch: 1670/2999 | Loss: 0.0009 | Episodes: 138 | Win count: 788 | Win rate: 0.472 | time: 36.75 minutes | Epsilon: 0.118 | Recent History: 25\n",
      "Epoch: 1680/2999 | Loss: 0.0009 | Episodes: 16 | Win count: 793 | Win rate: 0.472 | time: 37.13 minutes | Epsilon: 0.113 | Recent History: 23\n",
      "Epoch: 1690/2999 | Loss: 0.0008 | Episodes: 17 | Win count: 802 | Win rate: 0.474 | time: 37.33 minutes | Epsilon: 0.108 | Recent History: 23\n",
      "Epoch: 1700/2999 | Loss: 0.0012 | Episodes: 139 | Win count: 810 | Win rate: 0.476 | time: 37.61 minutes | Epsilon: 0.102 | Recent History: 23\n",
      "Epoch: 1710/2999 | Loss: 0.0011 | Episodes: 19 | Win count: 817 | Win rate: 0.477 | time: 37.88 minutes | Epsilon: 0.097 | Recent History: 26\n",
      "Epoch: 1720/2999 | Loss: 0.0011 | Episodes: 22 | Win count: 826 | Win rate: 0.480 | time: 38.08 minutes | Epsilon: 0.092 | Recent History: 26\n",
      "Epoch: 1730/2999 | Loss: 0.0011 | Episodes: 1 | Win count: 835 | Win rate: 0.482 | time: 38.23 minutes | Epsilon: 0.086 | Recent History: 26\n",
      "Epoch: 1740/2999 | Loss: 0.0008 | Episodes: 9 | Win count: 843 | Win rate: 0.484 | time: 38.45 minutes | Epsilon: 0.081 | Recent History: 27\n",
      "Epoch: 1750/2999 | Loss: 0.0010 | Episodes: 134 | Win count: 849 | Win rate: 0.485 | time: 38.79 minutes | Epsilon: 0.076 | Recent History: 25\n",
      "Epoch: 1760/2999 | Loss: 0.0008 | Episodes: 13 | Win count: 856 | Win rate: 0.486 | time: 39.16 minutes | Epsilon: 0.071 | Recent History: 23\n",
      "Epoch: 1770/2999 | Loss: 0.0008 | Episodes: 15 | Win count: 863 | Win rate: 0.487 | time: 39.51 minutes | Epsilon: 0.065 | Recent History: 22\n",
      "Epoch: 1780/2999 | Loss: 0.0007 | Episodes: 40 | Win count: 868 | Win rate: 0.487 | time: 39.93 minutes | Epsilon: 0.060 | Recent History: 20\n",
      "Epoch: 1790/2999 | Loss: 0.0008 | Episodes: 130 | Win count: 874 | Win rate: 0.488 | time: 40.28 minutes | Epsilon: 0.055 | Recent History: 20\n",
      "Epoch: 1800/2999 | Loss: 0.0009 | Episodes: 13 | Win count: 883 | Win rate: 0.490 | time: 40.48 minutes | Epsilon: 0.050 | Recent History: 22\n",
      "Epoch: 1810/2999 | Loss: 0.0007 | Episodes: 130 | Win count: 891 | Win rate: 0.492 | time: 40.69 minutes | Epsilon: 0.050 | Recent History: 25\n",
      "Epoch: 1820/2999 | Loss: 0.0007 | Episodes: 5 | Win count: 899 | Win rate: 0.494 | time: 40.91 minutes | Epsilon: 0.050 | Recent History: 25\n",
      "Epoch: 1830/2999 | Loss: 0.0006 | Episodes: 21 | Win count: 906 | Win rate: 0.495 | time: 41.19 minutes | Epsilon: 0.050 | Recent History: 25\n",
      "Epoch: 1840/2999 | Loss: 0.0007 | Episodes: 130 | Win count: 915 | Win rate: 0.497 | time: 41.46 minutes | Epsilon: 0.050 | Recent History: 25\n",
      "Epoch: 1850/2999 | Loss: 0.0007 | Episodes: 131 | Win count: 919 | Win rate: 0.496 | time: 41.92 minutes | Epsilon: 0.050 | Recent History: 22\n",
      "Epoch: 1860/2999 | Loss: 0.0008 | Episodes: 5 | Win count: 927 | Win rate: 0.498 | time: 42.14 minutes | Epsilon: 0.050 | Recent History: 22\n",
      "Epoch: 1870/2999 | Loss: 0.0008 | Episodes: 6 | Win count: 934 | Win rate: 0.499 | time: 42.42 minutes | Epsilon: 0.050 | Recent History: 20\n",
      "Epoch: 1880/2999 | Loss: 0.0008 | Episodes: 14 | Win count: 940 | Win rate: 0.500 | time: 42.76 minutes | Epsilon: 0.050 | Recent History: 22\n",
      "Epoch: 1890/2999 | Loss: 0.0007 | Episodes: 14 | Win count: 947 | Win rate: 0.501 | time: 43.04 minutes | Epsilon: 0.050 | Recent History: 21\n",
      "Epoch: 1900/2999 | Loss: 0.0007 | Episodes: 131 | Win count: 952 | Win rate: 0.501 | time: 43.45 minutes | Epsilon: 0.050 | Recent History: 20\n",
      "Epoch: 1910/2999 | Loss: 0.0005 | Episodes: 1 | Win count: 960 | Win rate: 0.502 | time: 43.70 minutes | Epsilon: 0.050 | Recent History: 22\n",
      "Epoch: 1920/2999 | Loss: 0.0006 | Episodes: 129 | Win count: 969 | Win rate: 0.504 | time: 43.85 minutes | Epsilon: 0.050 | Recent History: 24\n",
      "Epoch: 1930/2999 | Loss: 0.0005 | Episodes: 2 | Win count: 976 | Win rate: 0.505 | time: 44.22 minutes | Epsilon: 0.050 | Recent History: 25\n",
      "Epoch: 1940/2999 | Loss: 0.0005 | Episodes: 139 | Win count: 985 | Win rate: 0.507 | time: 44.43 minutes | Epsilon: 0.050 | Recent History: 27\n",
      "Epoch: 1950/2999 | Loss: 0.0007 | Episodes: 17 | Win count: 993 | Win rate: 0.509 | time: 44.72 minutes | Epsilon: 0.050 | Recent History: 25\n",
      "Epoch: 1960/2999 | Loss: 0.0005 | Episodes: 21 | Win count: 1002 | Win rate: 0.511 | time: 45.02 minutes | Epsilon: 0.050 | Recent History: 27\n",
      "Epoch: 1970/2999 | Loss: 0.0006 | Episodes: 17 | Win count: 1011 | Win rate: 0.513 | time: 45.23 minutes | Epsilon: 0.050 | Recent History: 27\n",
      "Epoch: 1980/2999 | Loss: 0.0006 | Episodes: 49 | Win count: 1021 | Win rate: 0.515 | time: 45.36 minutes | Epsilon: 0.050 | Recent History: 30\n",
      "Epoch: 1990/2999 | Loss: 0.0005 | Episodes: 4 | Win count: 1028 | Win rate: 0.516 | time: 45.64 minutes | Epsilon: 0.050 | Recent History: 28\n",
      "Epoch: 2000/2999 | Loss: 0.0006 | Episodes: 4 | Win count: 1037 | Win rate: 0.518 | time: 45.83 minutes | Epsilon: 0.050 | Recent History: 28\n",
      "Epoch: 2010/2999 | Loss: 0.0005 | Episodes: 6 | Win count: 1045 | Win rate: 0.520 | time: 46.09 minutes | Epsilon: 0.050 | Recent History: 26\n",
      "Epoch: 2020/2999 | Loss: 0.0005 | Episodes: 8 | Win count: 1055 | Win rate: 0.522 | time: 46.24 minutes | Epsilon: 0.050 | Recent History: 28\n",
      "Epoch: 2030/2999 | Loss: 0.0004 | Episodes: 2 | Win count: 1064 | Win rate: 0.524 | time: 46.38 minutes | Epsilon: 0.050 | Recent History: 29\n",
      "Epoch: 2040/2999 | Loss: 0.0006 | Episodes: 90 | Win count: 1073 | Win rate: 0.526 | time: 46.61 minutes | Epsilon: 0.050 | Recent History: 30\n",
      "Epoch: 2050/2999 | Loss: 0.0006 | Episodes: 2 | Win count: 1082 | Win rate: 0.528 | time: 46.76 minutes | Epsilon: 0.050 | Recent History: 29\n",
      "Epoch: 2060/2999 | Loss: 0.0005 | Episodes: 141 | Win count: 1092 | Win rate: 0.530 | time: 46.94 minutes | Epsilon: 0.050 | Recent History: 30\n",
      "Epoch: 2070/2999 | Loss: 0.0005 | Episodes: 7 | Win count: 1100 | Win rate: 0.531 | time: 47.20 minutes | Epsilon: 0.050 | Recent History: 29\n",
      "Epoch: 2080/2999 | Loss: 0.0006 | Episodes: 32 | Win count: 1108 | Win rate: 0.532 | time: 47.43 minutes | Epsilon: 0.050 | Recent History: 28\n",
      "Epoch: 2090/2999 | Loss: 0.0006 | Episodes: 24 | Win count: 1118 | Win rate: 0.535 | time: 47.59 minutes | Epsilon: 0.050 | Recent History: 28\n",
      "Epoch: 2100/2999 | Loss: 0.0005 | Episodes: 35 | Win count: 1127 | Win rate: 0.536 | time: 47.82 minutes | Epsilon: 0.050 | Recent History: 29\n",
      "Epoch: 2110/2999 | Loss: 0.0005 | Episodes: 16 | Win count: 1137 | Win rate: 0.539 | time: 47.95 minutes | Epsilon: 0.050 | Recent History: 31\n",
      "Epoch: 2120/2999 | Loss: 0.0006 | Episodes: 12 | Win count: 1147 | Win rate: 0.541 | time: 48.04 minutes | Epsilon: 0.050 | Recent History: 31\n",
      "Epoch: 2130/2999 | Loss: 0.0004 | Episodes: 16 | Win count: 1156 | Win rate: 0.542 | time: 48.43 minutes | Epsilon: 0.050 | Recent History: 31\n",
      "Epoch: 2140/2999 | Loss: 0.0006 | Episodes: 32 | Win count: 1164 | Win rate: 0.544 | time: 48.77 minutes | Epsilon: 0.050 | Recent History: 29\n",
      "Epoch: 2150/2999 | Loss: 0.0007 | Episodes: 2 | Win count: 1173 | Win rate: 0.545 | time: 49.01 minutes | Epsilon: 0.050 | Recent History: 28\n",
      "Epoch: 2160/2999 | Loss: 0.0005 | Episodes: 31 | Win count: 1183 | Win rate: 0.547 | time: 49.15 minutes | Epsilon: 0.050 | Recent History: 29\n",
      "Epoch: 2170/2999 | Loss: 0.0005 | Episodes: 9 | Win count: 1193 | Win rate: 0.550 | time: 49.28 minutes | Epsilon: 0.050 | Recent History: 31\n",
      "Epoch: 2180/2999 | Loss: 0.0004 | Episodes: 7 | Win count: 1202 | Win rate: 0.551 | time: 49.47 minutes | Epsilon: 0.050 | Recent History: 30\n",
      "Epoch: 2190/2999 | Loss: 0.0005 | Episodes: 14 | Win count: 1212 | Win rate: 0.553 | time: 49.57 minutes | Epsilon: 0.050 | Recent History: 31\n",
      "Epoch: 2200/2999 | Loss: 0.0005 | Episodes: 4 | Win count: 1222 | Win rate: 0.555 | time: 49.73 minutes | Epsilon: 0.050 | Recent History: 31\n",
      "Epoch: 2210/2999 | Loss: 0.0006 | Episodes: 30 | Win count: 1232 | Win rate: 0.557 | time: 50.35 minutes | Epsilon: 0.050 | Recent History: 32\n",
      "Epoch: 2220/2999 | Loss: 0.0005 | Episodes: 4 | Win count: 1242 | Win rate: 0.559 | time: 51.34 minutes | Epsilon: 0.050 | Recent History: 32\n",
      "Epoch: 2230/2999 | Loss: 0.0006 | Episodes: 7 | Win count: 1251 | Win rate: 0.561 | time: 51.55 minutes | Epsilon: 0.050 | Recent History: 31\n",
      "Epoch: 2240/2999 | Loss: 0.0005 | Episodes: 10 | Win count: 1260 | Win rate: 0.562 | time: 51.70 minutes | Epsilon: 0.050 | Recent History: 30\n",
      "Epoch: 2250/2999 | Loss: 0.0007 | Episodes: 8 | Win count: 1270 | Win rate: 0.564 | time: 51.88 minutes | Epsilon: 0.050 | Recent History: 30\n",
      "Epoch: 2260/2999 | Loss: 0.0006 | Episodes: 7 | Win count: 1280 | Win rate: 0.566 | time: 51.96 minutes | Epsilon: 0.050 | Recent History: 31\n",
      "Epoch: 2270/2999 | Loss: 0.0009 | Episodes: 2 | Win count: 1290 | Win rate: 0.568 | time: 52.07 minutes | Epsilon: 0.050 | Recent History: 31\n",
      "Epoch: 2280/2999 | Loss: 0.0004 | Episodes: 27 | Win count: 1300 | Win rate: 0.570 | time: 53.89 minutes | Epsilon: 0.050 | Recent History: 32\n",
      "Epoch: 2290/2999 | Loss: 0.0007 | Episodes: 49 | Win count: 1309 | Win rate: 0.571 | time: 55.70 minutes | Epsilon: 0.050 | Recent History: 31\n",
      "Epoch: 2300/2999 | Loss: 0.0004 | Episodes: 130 | Win count: 1318 | Win rate: 0.573 | time: 55.86 minutes | Epsilon: 0.050 | Recent History: 30\n",
      "Epoch: 2310/2999 | Loss: 0.0005 | Episodes: 25 | Win count: 1328 | Win rate: 0.575 | time: 55.97 minutes | Epsilon: 0.050 | Recent History: 30\n",
      "Epoch: 2320/2999 | Loss: 0.0004 | Episodes: 4 | Win count: 1337 | Win rate: 0.576 | time: 56.11 minutes | Epsilon: 0.050 | Recent History: 29\n",
      "Epoch: 2330/2999 | Loss: 0.0005 | Episodes: 7 | Win count: 1346 | Win rate: 0.577 | time: 56.29 minutes | Epsilon: 0.050 | Recent History: 29\n",
      "Epoch: 2340/2999 | Loss: 0.0005 | Episodes: 25 | Win count: 1356 | Win rate: 0.579 | time: 56.41 minutes | Epsilon: 0.050 | Recent History: 30\n",
      "Epoch: 2350/2999 | Loss: 0.0005 | Episodes: 1 | Win count: 1366 | Win rate: 0.581 | time: 56.51 minutes | Epsilon: 0.050 | Recent History: 31\n",
      "Epoch: 2360/2999 | Loss: 0.0004 | Episodes: 2 | Win count: 1376 | Win rate: 0.583 | time: 57.93 minutes | Epsilon: 0.050 | Recent History: 32\n",
      "Epoch: 2370/2999 | Loss: 0.0005 | Episodes: 21 | Win count: 1385 | Win rate: 0.584 | time: 60.14 minutes | Epsilon: 0.050 | Recent History: 31\n",
      "Epoch: 2380/2999 | Loss: 0.0004 | Episodes: 24 | Win count: 1395 | Win rate: 0.586 | time: 60.28 minutes | Epsilon: 0.050 | Recent History: 31\n",
      "Epoch: 2390/2999 | Loss: 0.0005 | Episodes: 132 | Win count: 1404 | Win rate: 0.587 | time: 60.45 minutes | Epsilon: 0.050 | Recent History: 30\n",
      "Epoch: 2400/2999 | Loss: 0.0005 | Episodes: 12 | Win count: 1413 | Win rate: 0.589 | time: 60.63 minutes | Epsilon: 0.050 | Recent History: 29\n",
      "Epoch: 2410/2999 | Loss: 0.0004 | Episodes: 1 | Win count: 1422 | Win rate: 0.590 | time: 60.78 minutes | Epsilon: 0.050 | Recent History: 29\n",
      "Epoch: 2420/2999 | Loss: 0.0005 | Episodes: 13 | Win count: 1432 | Win rate: 0.591 | time: 60.89 minutes | Epsilon: 0.050 | Recent History: 29\n",
      "Epoch: 2430/2999 | Loss: 0.0004 | Episodes: 28 | Win count: 1442 | Win rate: 0.593 | time: 61.00 minutes | Epsilon: 0.050 | Recent History: 31\n",
      "Epoch: 2440/2999 | Loss: 0.0005 | Episodes: 19 | Win count: 1451 | Win rate: 0.594 | time: 61.18 minutes | Epsilon: 0.050 | Recent History: 31\n",
      "Epoch: 2450/2999 | Loss: 0.0004 | Episodes: 6 | Win count: 1461 | Win rate: 0.596 | time: 61.29 minutes | Epsilon: 0.050 | Recent History: 31\n",
      "Epoch: 2460/2999 | Loss: 0.0004 | Episodes: 3 | Win count: 1469 | Win rate: 0.597 | time: 61.55 minutes | Epsilon: 0.050 | Recent History: 29\n",
      "Epoch: 2470/2999 | Loss: 0.0005 | Episodes: 9 | Win count: 1479 | Win rate: 0.599 | time: 61.66 minutes | Epsilon: 0.050 | Recent History: 30\n",
      "Epoch: 2480/2999 | Loss: 0.0006 | Episodes: 6 | Win count: 1489 | Win rate: 0.600 | time: 61.76 minutes | Epsilon: 0.050 | Recent History: 30\n",
      "Epoch: 2490/2999 | Loss: 0.0004 | Episodes: 38 | Win count: 1499 | Win rate: 0.602 | time: 62.37 minutes | Epsilon: 0.050 | Recent History: 32\n",
      "Epoch: 2500/2999 | Loss: 0.0006 | Episodes: 7 | Win count: 1509 | Win rate: 0.603 | time: 64.93 minutes | Epsilon: 0.050 | Recent History: 32\n",
      "Reached 100% win rate at epoch: 2500\n",
      "n_epoch: 2500, max_mem: 10000, data: 512, time: 65.39 minutes\n"
     ]
    },
    {
     "data": {
      "text/plain": [
       "3923.165441"
      ]
     },
     "execution_count": 11,
     "metadata": {},
     "output_type": "execute_result"
    }
   ],
   "source": [
    "model = build_model(maze)\n",
    "target_model = build_model(maze)\n",
    "target_model.set_weights(model.get_weights())\n",
    "\n",
    "qtrain(model, target_model, maze, n_epoch=3000, max_memory=10000, data_size=512)"
   ]
  },
  {
   "cell_type": "markdown",
   "metadata": {},
   "source": [
    "This cell will check to see if the model passes the completion check. Note: This could take several minutes."
   ]
  },
  {
   "cell_type": "code",
   "execution_count": 12,
   "metadata": {},
   "outputs": [
    {
     "data": {
      "text/plain": [
       "<matplotlib.image.AxesImage at 0x2700f9b0310>"
      ]
     },
     "execution_count": 12,
     "metadata": {},
     "output_type": "execute_result"
    },
    {
     "data": {
      "image/png": "[encoded data removed]",
      "text/plain": [
       "<Figure size 640x480 with 1 Axes>"
      ]
     },
     "metadata": {},
     "output_type": "display_data"
    }
   ],
   "source": [
    "completion_check(model, qmaze)\n",
    "show(qmaze)"
   ]
  },
  {
   "cell_type": "markdown",
   "metadata": {},
   "source": [
    "This cell will test your model for one game. It will start the pirate at the top-left corner and run play_game. The agent should find a path from the starting position to the target (treasure). The treasure is located in the bottom-right corner."
   ]
  },
  {
   "cell_type": "code",
   "execution_count": 13,
   "metadata": {},
   "outputs": [
    {
     "data": {
      "text/plain": [
       "<matplotlib.image.AxesImage at 0x27013670700>"
      ]
     },
     "execution_count": 13,
     "metadata": {},
     "output_type": "execute_result"
    },
    {
     "data": {
      "image/png": "[encoded data removed]",
      "text/plain": [
       "<Figure size 640x480 with 1 Axes>"
      ]
     },
     "metadata": {},
     "output_type": "display_data"
    }
   ],
   "source": [
    "pirate_start = (0, 0)\n",
    "play_game(model, qmaze, pirate_start)\n",
    "show(qmaze)"
   ]
  },
  {
   "cell_type": "markdown",
   "metadata": {},
   "source": [
    "## Save and Submit Your Work\n",
    "After you have finished creating the code for your notebook, save your work. Make sure that your notebook contains your name in the filename (e.g. Doe_Jane_ProjectTwo.ipynb). This will help your instructor access and grade your work easily. Download a copy of your IPYNB file and submit it to Brightspace. Refer to the Jupyter Notebook in Apporto Tutorial if you need help with these tasks."
   ]
  }
 ],
 "metadata": {
  "kernelspec": {
   "display_name": "Tensorflow GPU Python 3.9",
   "language": "python",
   "name": "tensorflow_gpu_py_39"
  },
  "language_info": {
   "codemirror_mode": {
    "name": "ipython",
    "version": 3
   },
   "file_extension": ".py",
   "mimetype": "text/x-python",
   "name": "python",
   "nbconvert_exporter": "python",
   "pygments_lexer": "ipython3",
   "version": "3.9.7"
  }
 },
 "nbformat": 4,
 "nbformat_minor": 4
}
